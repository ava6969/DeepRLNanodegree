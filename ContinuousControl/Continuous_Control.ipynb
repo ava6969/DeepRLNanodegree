{
 "cells": [
  {
   "cell_type": "markdown",
   "metadata": {},
   "source": [
    "# Continuous Control\n",
    "\n",
    "---\n",
    "\n",
    "You are welcome to use this coding environment to train your agent for the project.  Follow the instructions below to get started!\n",
    "\n",
    "### 1. Start the Environment\n",
    "\n",
    "Run the next code cell to install a few packages.  This line will take a few minutes to run!"
   ]
  },
  {
   "cell_type": "code",
   "execution_count": 4,
   "metadata": {},
   "outputs": [
    {
     "name": "stdout",
     "output_type": "stream",
     "text": [
      "\u001b[31mtensorflow 1.7.1 has requirement numpy>=1.13.3, but you'll have numpy 1.12.1 which is incompatible.\u001b[0m\r\n",
      "\u001b[31mipython 6.5.0 has requirement prompt-toolkit<2.0.0,>=1.0.15, but you'll have prompt-toolkit 3.0.3 which is incompatible.\u001b[0m\r\n"
     ]
    }
   ],
   "source": [
    "!pip -q install ./python"
   ]
  },
  {
   "cell_type": "markdown",
   "metadata": {},
   "source": [
    "The environments corresponding to both versions of the environment are already saved in the Workspace and can be accessed at the file paths provided below.  \n",
    "\n",
    "Please select one of the two options below for loading the environment."
   ]
  },
  {
   "cell_type": "code",
   "execution_count": 5,
   "metadata": {},
   "outputs": [
    {
     "name": "stderr",
     "output_type": "stream",
     "text": [
      "INFO:unityagents:\n",
      "'Academy' started successfully!\n",
      "Unity Academy name: Academy\n",
      "        Number of Brains: 1\n",
      "        Number of External Brains : 1\n",
      "        Lesson number : 0\n",
      "        Reset Parameters :\n",
      "\t\tgoal_speed -> 1.0\n",
      "\t\tgoal_size -> 5.0\n",
      "Unity brain name: ReacherBrain\n",
      "        Number of Visual Observations (per agent): 0\n",
      "        Vector Observation space type: continuous\n",
      "        Vector Observation space size (per agent): 33\n",
      "        Number of stacked Vector Observation: 1\n",
      "        Vector Action space type: continuous\n",
      "        Vector Action space size (per agent): 4\n",
      "        Vector Action descriptions: , , , \n"
     ]
    }
   ],
   "source": [
    "from unityagents import UnityEnvironment\n",
    "import numpy as np\n",
    "\n",
    "# select this option to load version 1 (with a single agent) of the environment\n",
    "env = UnityEnvironment(file_name='/data/Reacher_One_Linux_NoVis/Reacher_One_Linux_NoVis.x86_64')\n",
    "\n",
    "# select this option to load version 2 (with 20 agents) of the environment\n",
    "# env = UnityEnvironment(file_name='/data/Reacher_Linux_NoVis/Reacher.x86_64')"
   ]
  },
  {
   "cell_type": "markdown",
   "metadata": {},
   "source": [
    "Environments contain **_brains_** which are responsible for deciding the actions of their associated agents. Here we check for the first brain available, and set it as the default brain we will be controlling from Python."
   ]
  },
  {
   "cell_type": "code",
   "execution_count": 6,
   "metadata": {},
   "outputs": [],
   "source": [
    "# get the default brain\n",
    "brain_name = env.brain_names[0]\n",
    "brain = env.brains[brain_name]"
   ]
  },
  {
   "cell_type": "markdown",
   "metadata": {},
   "source": [
    "### 2. Examine the State and Action Spaces\n",
    "\n",
    "Run the code cell below to print some information about the environment."
   ]
  },
  {
   "cell_type": "code",
   "execution_count": 7,
   "metadata": {},
   "outputs": [
    {
     "name": "stdout",
     "output_type": "stream",
     "text": [
      "Number of agents: 1\n",
      "Size of each action: 4\n",
      "There are 1 agents. Each observes a state with length: 33\n",
      "The state for the first agent looks like: [  0.00000000e+00  -4.00000000e+00   0.00000000e+00   1.00000000e+00\n",
      "  -0.00000000e+00  -0.00000000e+00  -4.37113883e-08   0.00000000e+00\n",
      "   0.00000000e+00   0.00000000e+00   0.00000000e+00   0.00000000e+00\n",
      "   0.00000000e+00   0.00000000e+00  -1.00000000e+01   0.00000000e+00\n",
      "   1.00000000e+00  -0.00000000e+00  -0.00000000e+00  -4.37113883e-08\n",
      "   0.00000000e+00   0.00000000e+00   0.00000000e+00   0.00000000e+00\n",
      "   0.00000000e+00   0.00000000e+00   5.75471878e+00  -1.00000000e+00\n",
      "   5.55726671e+00   0.00000000e+00   1.00000000e+00   0.00000000e+00\n",
      "  -1.68164849e-01]\n"
     ]
    }
   ],
   "source": [
    "# reset the environment\n",
    "env_info = env.reset(train_mode=True)[brain_name]\n",
    "\n",
    "# number of agents\n",
    "num_agents = len(env_info.agents)\n",
    "print('Number of agents:', num_agents)\n",
    "\n",
    "# size of each action\n",
    "action_size = brain.vector_action_space_size\n",
    "print('Size of each action:', action_size)\n",
    "\n",
    "# examine the state space \n",
    "states = env_info.vector_observations\n",
    "state_size = states.shape[1]\n",
    "print('There are {} agents. Each observes a state with length: {}'.format(states.shape[0], state_size))\n",
    "print('The state for the first agent looks like:', states[0])"
   ]
  },
  {
   "cell_type": "markdown",
   "metadata": {},
   "source": [
    "### 3. Take Random Actions in the Environment\n",
    "\n",
    "In the next code cell, you will learn how to use the Python API to control the agent and receive feedback from the environment.\n",
    "\n",
    "Note that **in this coding environment, you will not be able to watch the agents while they are training**, and you should set `train_mode=True` to restart the environment."
   ]
  },
  {
   "cell_type": "code",
   "execution_count": 8,
   "metadata": {},
   "outputs": [
    {
     "name": "stdout",
     "output_type": "stream",
     "text": [
      "Total score (averaged over agents) this episode: 0.6099999863654375\n"
     ]
    }
   ],
   "source": [
    "env_info = env.reset(train_mode=True)[brain_name]      # reset the environment    \n",
    "states = env_info.vector_observations                  # get the current state (for each agent)\n",
    "scores = np.zeros(num_agents)                          # initialize the score (for each agent)\n",
    "while True:\n",
    "    actions = np.random.randn(num_agents, action_size) # select an action (for each agent)\n",
    "    actions = np.clip(actions, -1, 1)                  # all actions between -1 and 1\n",
    "    env_info = env.step(actions)[brain_name]           # send all actions to tne environment\n",
    "    next_states = env_info.vector_observations         # get next state (for each agent)\n",
    "    rewards = env_info.rewards                         # get reward (for each agent)\n",
    "    dones = env_info.local_done                        # see if episode finished\n",
    "    scores += env_info.rewards                         # update the score (for each agent)\n",
    "    states = next_states                               # roll over states to next time step\n",
    "    if np.any(dones):                                  # exit loop if episode finished\n",
    "        break\n",
    "print('Total score (averaged over agents) this episode: {}'.format(np.mean(scores)))"
   ]
  },
  {
   "cell_type": "markdown",
   "metadata": {},
   "source": [
    "When finished, you can close the environment."
   ]
  },
  {
   "cell_type": "code",
   "execution_count": null,
   "metadata": {},
   "outputs": [],
   "source": [
    "#env.close()     # do not use if you're running the next section"
   ]
  },
  {
   "cell_type": "markdown",
   "metadata": {},
   "source": [
    "### 4. It's Your Turn!\n",
    "\n",
    "Now it's your turn to train your own agent to solve the environment!  A few **important notes**:\n",
    "- When training the environment, set `train_mode=True`, so that the line for resetting the environment looks like the following:\n",
    "```python\n",
    "env_info = env.reset(train_mode=True)[brain_name]\n",
    "```\n",
    "- To structure your work, you're welcome to work directly in this Jupyter notebook, or you might like to start over with a new file!  You can see the list of files in the workspace by clicking on **_Jupyter_** in the top left corner of the notebook.\n",
    "- In this coding environment, you will not be able to watch the agents while they are training.  However, **_after training the agents_**, you can download the saved model weights to watch the agents on your own machine! "
   ]
  },
  {
   "cell_type": "code",
   "execution_count": 9,
   "metadata": {},
   "outputs": [],
   "source": [
    "# import required packages and files\n",
    "%load_ext autoreload\n",
    "%autoreload 2\n",
    "\n",
    "from ddpg_agent import Agent\n",
    "from collections import deque\n",
    "import matplotlib.pyplot as plt\n",
    "import torch\n",
    "import pickle"
   ]
  },
  {
   "cell_type": "code",
   "execution_count": 29,
   "metadata": {},
   "outputs": [],
   "source": [
    "def ddpg(n_episodes=2000, max_timesteps = 1000, window_size=100, win_criteria=30.0, print_every=10, save_every=100,\n",
    "         test_run = False, saved_state_paths = None):\n",
    "\n",
    "    if saved_state_paths is not None:                             # loading back intermediate results:\n",
    "        with open(saved_state_paths[0], 'rb') as f:               # first object in tuple is the scores and deque pickle\n",
    "            scores_deque, scores = pickle.load(f)\n",
    "        agent.actor_local.load_state_dict(torch.load(saved_state_paths[1]))   # next object is the actor network\n",
    "        agent.critic_local.load_state_dict(torch.load(saved_state_paths[2]))  # last object is the critic network\n",
    "        start_episode = len(scores)+1\n",
    "    else:                                                   # starting from scratch\n",
    "        scores_deque = deque(maxlen=window_size) \n",
    "        scores = []\n",
    "        start_episode = 1\n",
    "    \n",
    "    for i_episode in range(start_episode, n_episodes+1):\n",
    "        \n",
    "        env_info = env.reset(train_mode=True)[brain_name]\n",
    "        states = env_info.vector_observations\n",
    "        \n",
    "        agent.reset()\n",
    "        episode_scores = np.zeros(num_agents) \n",
    "        \n",
    "        if not test_run:                          # if we're testing, don't actually run the episodes\n",
    "\n",
    "            for t in range(max_timesteps):\n",
    "                actions = agent.act(states)\n",
    "                env_info = env.step(actions)[brain_name]\n",
    "                next_states = env_info.vector_observations\n",
    "                rewards = env_info.rewards\n",
    "                dones = env_info.local_done\n",
    "\n",
    "                agent.step(states, actions, rewards, next_states, t, dones)\n",
    "                episode_scores += np.array(rewards)\n",
    "                states = next_states\n",
    "                if np.any(dones):\n",
    "                    break\n",
    "\n",
    "        episode_score = np.mean(episode_scores) # episode score(s)\n",
    "        scores_deque.append(episode_score)      # append scores to deque\n",
    "        scores.append(episode_score)            # append scores to overall array\n",
    "        average_score = np.mean(scores_deque)   # get the average inside the moving window\n",
    "\n",
    "        print('\\rEpisode: {}\\tAverage Score: {:.2f}\\tCurrent Score: {:.2f}'.format(i_episode, average_score, episode_score), end=\"\")\n",
    "        if i_episode % print_every == 0:\n",
    "            print('\\rEpisode: {}\\tAverage Score: {:.2f}\\tCurrent Score: {:.2f}'.format(i_episode, average_score, episode_score))\n",
    "\n",
    "        if i_episode % save_every == 0:\n",
    "            # Saving the objects:\n",
    "            episode_string = str(i_episode)\n",
    "            with open('save_state_'+episode_string+'.pkl', 'wb') as f:\n",
    "                pickle.dump([scores_deque, scores], f)\n",
    "                torch.save(agent.actor_local.state_dict(), 'checkpoint_actor_'+episode_string+'.pth')\n",
    "                torch.save(agent.critic_local.state_dict(), 'checkpoint_critic_'+episode_string+'.pth')\n",
    "\n",
    "            \n",
    "        if average_score >= win_criteria:\n",
    "            print('\\nEnvironment solved in {} episodes!\\tAverage Score: {:.2f}'.format(i_episode, average_score))\n",
    "            episode_string = str(i_episode)\n",
    "            with open('save_state_'+episode_string+'.pkl', 'wb') as f:\n",
    "                pickle.dump([scores_deque, scores], f)\n",
    "            torch.save(agent.actor_local.state_dict(), 'checkpoint_actor_solved.pth')\n",
    "            torch.save(agent.critic_local.state_dict(), 'checkpoint_critic_solved.pth')\n",
    "            break\n",
    "\n",
    "    np.save('scores.npy', scores)\n",
    "    return scores\n"
   ]
  },
  {
   "cell_type": "markdown",
   "metadata": {},
   "source": [
    "# Test Code\n",
    "Test functionality without actually running the episodes.\n"
   ]
  },
  {
   "cell_type": "code",
   "execution_count": 18,
   "metadata": {},
   "outputs": [
    {
     "name": "stdout",
     "output_type": "stream",
     "text": [
      "Created an Agent\n",
      "Episode: 10\tAverage Score: 0.00\tCurrent Score: 0.00\n",
      "Episode: 20\tAverage Score: 0.00\tCurrent Score: 0.00\n",
      "Episode: 30\tAverage Score: 0.00\tCurrent Score: 0.00\n",
      "Episode: 40\tAverage Score: 0.00\tCurrent Score: 0.00\n",
      "Episode: 50\tAverage Score: 0.00\tCurrent Score: 0.00\n",
      "Episode: 60\tAverage Score: 0.00\tCurrent Score: 0.00\n",
      "Episode: 70\tAverage Score: 0.00\tCurrent Score: 0.00\n",
      "Episode: 80\tAverage Score: 0.00\tCurrent Score: 0.00\n",
      "Episode: 90\tAverage Score: 0.00\tCurrent Score: 0.00\n",
      "Episode: 100\tAverage Score: 0.00\tCurrent Score: 0.00\n",
      "Episode: 110\tAverage Score: 0.00\tCurrent Score: 0.00\n",
      "Episode: 120\tAverage Score: 0.00\tCurrent Score: 0.00\n",
      "Episode: 130\tAverage Score: 0.00\tCurrent Score: 0.00\n",
      "Episode: 140\tAverage Score: 0.00\tCurrent Score: 0.00\n",
      "Episode: 150\tAverage Score: 0.00\tCurrent Score: 0.00\n",
      "Episode: 160\tAverage Score: 0.00\tCurrent Score: 0.00\n",
      "Episode: 170\tAverage Score: 0.00\tCurrent Score: 0.00\n",
      "Episode: 180\tAverage Score: 0.00\tCurrent Score: 0.00\n",
      "Episode: 190\tAverage Score: 0.00\tCurrent Score: 0.00\n",
      "Episode: 200\tAverage Score: 0.00\tCurrent Score: 0.00\n",
      "Episode: 210\tAverage Score: 0.00\tCurrent Score: 0.00\n",
      "Episode: 220\tAverage Score: 0.00\tCurrent Score: 0.00\n",
      "Episode: 230\tAverage Score: 0.00\tCurrent Score: 0.00\n",
      "Episode: 240\tAverage Score: 0.00\tCurrent Score: 0.00\n",
      "Episode: 250\tAverage Score: 0.00\tCurrent Score: 0.00\n",
      "Episode: 260\tAverage Score: 0.00\tCurrent Score: 0.00\n",
      "Episode: 270\tAverage Score: 0.00\tCurrent Score: 0.00\n",
      "Episode: 280\tAverage Score: 0.00\tCurrent Score: 0.00\n",
      "Episode: 290\tAverage Score: 0.00\tCurrent Score: 0.00\n",
      "Episode: 300\tAverage Score: 0.00\tCurrent Score: 0.00\n",
      "Episode: 310\tAverage Score: 0.00\tCurrent Score: 0.00\n",
      "Episode: 320\tAverage Score: 0.00\tCurrent Score: 0.00\n",
      "Episode: 330\tAverage Score: 0.00\tCurrent Score: 0.00\n",
      "Episode: 340\tAverage Score: 0.00\tCurrent Score: 0.00\n",
      "Episode: 350\tAverage Score: 0.00\tCurrent Score: 0.00\n",
      "Episode: 360\tAverage Score: 0.00\tCurrent Score: 0.00\n",
      "Episode: 370\tAverage Score: 0.00\tCurrent Score: 0.00\n",
      "Episode: 380\tAverage Score: 0.00\tCurrent Score: 0.00\n",
      "Episode: 390\tAverage Score: 0.00\tCurrent Score: 0.00\n",
      "Episode: 400\tAverage Score: 0.00\tCurrent Score: 0.00\n",
      "Episode: 410\tAverage Score: 0.00\tCurrent Score: 0.00\n",
      "Episode: 420\tAverage Score: 0.00\tCurrent Score: 0.00\n",
      "Episode: 430\tAverage Score: 0.00\tCurrent Score: 0.00\n",
      "Episode: 440\tAverage Score: 0.00\tCurrent Score: 0.00\n",
      "Episode: 450\tAverage Score: 0.00\tCurrent Score: 0.00\n",
      "Episode: 460\tAverage Score: 0.00\tCurrent Score: 0.00\n",
      "Episode: 470\tAverage Score: 0.00\tCurrent Score: 0.00\n",
      "Episode: 480\tAverage Score: 0.00\tCurrent Score: 0.00\n",
      "Episode: 490\tAverage Score: 0.00\tCurrent Score: 0.00\n",
      "Episode: 500\tAverage Score: 0.00\tCurrent Score: 0.00\n",
      "Episode: 510\tAverage Score: 0.00\tCurrent Score: 0.00\n",
      "Episode: 520\tAverage Score: 0.00\tCurrent Score: 0.00\n",
      "Episode: 530\tAverage Score: 0.00\tCurrent Score: 0.00\n",
      "Episode: 540\tAverage Score: 0.00\tCurrent Score: 0.00\n",
      "Episode: 550\tAverage Score: 0.00\tCurrent Score: 0.00\n",
      "Episode: 560\tAverage Score: 0.00\tCurrent Score: 0.00\n",
      "Episode: 570\tAverage Score: 0.00\tCurrent Score: 0.00\n",
      "Episode: 580\tAverage Score: 0.00\tCurrent Score: 0.00\n",
      "Episode: 590\tAverage Score: 0.00\tCurrent Score: 0.00\n",
      "Episode: 600\tAverage Score: 0.00\tCurrent Score: 0.00\n",
      "Episode: 610\tAverage Score: 0.00\tCurrent Score: 0.00\n",
      "Episode: 620\tAverage Score: 0.00\tCurrent Score: 0.00\n",
      "Episode: 630\tAverage Score: 0.00\tCurrent Score: 0.00\n",
      "Episode: 640\tAverage Score: 0.00\tCurrent Score: 0.00\n",
      "Episode: 650\tAverage Score: 0.00\tCurrent Score: 0.00\n",
      "Episode: 660\tAverage Score: 0.00\tCurrent Score: 0.00\n",
      "Episode: 670\tAverage Score: 0.00\tCurrent Score: 0.00\n",
      "Episode: 680\tAverage Score: 0.00\tCurrent Score: 0.00\n",
      "Episode: 690\tAverage Score: 0.00\tCurrent Score: 0.00\n",
      "Episode: 700\tAverage Score: 0.00\tCurrent Score: 0.00\n",
      "Episode: 710\tAverage Score: 0.00\tCurrent Score: 0.00\n",
      "Episode: 720\tAverage Score: 0.00\tCurrent Score: 0.00\n",
      "Episode: 730\tAverage Score: 0.00\tCurrent Score: 0.00\n",
      "Episode: 740\tAverage Score: 0.00\tCurrent Score: 0.00\n",
      "Episode: 750\tAverage Score: 0.00\tCurrent Score: 0.00\n",
      "Episode: 760\tAverage Score: 0.00\tCurrent Score: 0.00\n",
      "Episode: 770\tAverage Score: 0.00\tCurrent Score: 0.00\n",
      "Episode: 780\tAverage Score: 0.00\tCurrent Score: 0.00\n",
      "Episode: 790\tAverage Score: 0.00\tCurrent Score: 0.00\n",
      "Episode: 800\tAverage Score: 0.00\tCurrent Score: 0.00\n",
      "Episode: 810\tAverage Score: 0.00\tCurrent Score: 0.00\n",
      "Episode: 820\tAverage Score: 0.00\tCurrent Score: 0.00\n",
      "Episode: 830\tAverage Score: 0.00\tCurrent Score: 0.00\n",
      "Episode: 840\tAverage Score: 0.00\tCurrent Score: 0.00\n",
      "Episode: 850\tAverage Score: 0.00\tCurrent Score: 0.00\n",
      "Episode: 860\tAverage Score: 0.00\tCurrent Score: 0.00\n",
      "Episode: 870\tAverage Score: 0.00\tCurrent Score: 0.00\n",
      "Episode: 880\tAverage Score: 0.00\tCurrent Score: 0.00\n",
      "Episode: 890\tAverage Score: 0.00\tCurrent Score: 0.00\n",
      "Episode: 900\tAverage Score: 0.00\tCurrent Score: 0.00\n",
      "Episode: 910\tAverage Score: 0.00\tCurrent Score: 0.00\n",
      "Episode: 920\tAverage Score: 0.00\tCurrent Score: 0.00\n",
      "Episode: 930\tAverage Score: 0.00\tCurrent Score: 0.00\n",
      "Episode: 940\tAverage Score: 0.00\tCurrent Score: 0.00\n",
      "Episode: 950\tAverage Score: 0.00\tCurrent Score: 0.00\n",
      "Episode: 960\tAverage Score: 0.00\tCurrent Score: 0.00\n",
      "Episode: 970\tAverage Score: 0.00\tCurrent Score: 0.00\n",
      "Episode: 980\tAverage Score: 0.00\tCurrent Score: 0.00\n",
      "Episode: 990\tAverage Score: 0.00\tCurrent Score: 0.00\n",
      "Episode: 1000\tAverage Score: 0.00\tCurrent Score: 0.00\n"
     ]
    }
   ],
   "source": [
    "agent = Agent(state_size=state_size, action_size=action_size, random_seed=60)\n",
    "\n",
    "test_scores = ddpg(n_episodes=1000, print_every=10, save_every=100, test_run=True)\n"
   ]
  },
  {
   "cell_type": "markdown",
   "metadata": {},
   "source": [
    "# Train an agent"
   ]
  },
  {
   "cell_type": "code",
   "execution_count": 31,
   "metadata": {},
   "outputs": [
    {
     "name": "stdout",
     "output_type": "stream",
     "text": [
      "Created an Agent\n",
      "Episode: 200\tAverage Score: 9.87\tCurrent Score: 11.89\n",
      "Episode: 210\tAverage Score: 9.62\tCurrent Score: 1.40\n",
      "Episode: 220\tAverage Score: 9.35\tCurrent Score: 1.32\n",
      "Episode: 230\tAverage Score: 9.12\tCurrent Score: 3.21\n",
      "Episode: 240\tAverage Score: 8.84\tCurrent Score: 10.34\n",
      "Episode: 250\tAverage Score: 9.06\tCurrent Score: 3.596\n",
      "Episode: 260\tAverage Score: 10.05\tCurrent Score: 17.87\n",
      "Episode: 270\tAverage Score: 11.01\tCurrent Score: 29.37\n",
      "Episode: 280\tAverage Score: 12.52\tCurrent Score: 20.02\n",
      "Episode: 290\tAverage Score: 13.65\tCurrent Score: 32.41\n",
      "Episode: 300\tAverage Score: 15.08\tCurrent Score: 36.93\n",
      "Episode: 310\tAverage Score: 18.11\tCurrent Score: 39.15\n",
      "Episode: 320\tAverage Score: 21.12\tCurrent Score: 38.13\n",
      "Episode: 330\tAverage Score: 24.18\tCurrent Score: 37.86\n",
      "Episode: 340\tAverage Score: 27.02\tCurrent Score: 32.05\n",
      "Episode: 350\tAverage Score: 29.27\tCurrent Score: 38.48\n",
      "Episode: 354\tAverage Score: 30.11\tCurrent Score: 38.05\n",
      "Environment solved in 254 episodes!\tAverage Score: 30.11\n"
     ]
    },
    {
     "data": {
      "image/png": "[encoded data removed]",
      "text/plain": [
       "<matplotlib.figure.Figure at 0x7fa8f0594ac8>"
      ]
     },
     "metadata": {
      "needs_background": "light"
     },
     "output_type": "display_data"
    }
   ],
   "source": [
    "# Initialize Feed-forward DNNs for Actor and Critic models. \n",
    "agent = Agent(state_size=state_size, action_size=action_size, random_seed=60)\n",
    "\n",
    "all_scores = ddpg(n_episodes=1000, print_every=10, saved_state_paths=(\"save_state_200.pkl\",\"checkpoint_actor_200.pth\",\"checkpoint_critic_200.pth\"))\n",
    "\n",
    "plt.figure()\n",
    "plt.plot(all_scores)\n",
    "plt.xlabel(\"episode\")\n",
    "plt.ylabel(\"scores\")\n",
    "plt.show()\n"
   ]
  }
 ],
 "metadata": {
  "kernelspec": {
   "display_name": "Python 3",
   "language": "python",
   "name": "python3"
  },
  "language_info": {
   "codemirror_mode": {
    "name": "ipython",
    "version": 3
   },
   "file_extension": ".py",
   "mimetype": "text/x-python",
   "name": "python",
   "nbconvert_exporter": "python",
   "pygments_lexer": "ipython3",
   "version": "3.6.3"
  }
 },
 "nbformat": 4,
 "nbformat_minor": 2
}
