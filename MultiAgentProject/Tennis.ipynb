{
 "cells": [
  {
   "cell_type": "markdown",
   "metadata": {},
   "source": [
    "# Collaboration and Competition\n",
    "\n",
    "---\n",
    "\n",
    "You are welcome to use this coding environment to train your agent for the project.  Follow the instructions below to get started!\n",
    "\n",
    "### 1. Start the Environment\n",
    "\n",
    "Run the next code cell to install a few packages.  This line will take a few minutes to run!"
   ]
  },
  {
   "cell_type": "code",
   "execution_count": 1,
   "metadata": {},
   "outputs": [
    {
     "name": "stdout",
     "output_type": "stream",
     "text": [
      "\u001b[31mtensorflow 1.7.1 has requirement numpy>=1.13.3, but you'll have numpy 1.12.1 which is incompatible.\u001b[0m\r\n",
      "\u001b[31mipython 6.5.0 has requirement prompt-toolkit<2.0.0,>=1.0.15, but you'll have prompt-toolkit 3.0.4 which is incompatible.\u001b[0m\r\n"
     ]
    }
   ],
   "source": [
    "# when running in Udacity workspace\n",
    "!pip -q install ./python"
   ]
  },
  {
   "cell_type": "code",
   "execution_count": 3,
   "metadata": {},
   "outputs": [
    {
     "name": "stdout",
     "output_type": "stream",
     "text": [
      "The autoreload extension is already loaded. To reload it, use:\n",
      "  %reload_ext autoreload\n"
     ]
    }
   ],
   "source": [
    "%load_ext autoreload\n",
    "%autoreload 2\n",
    "\n",
    "from maddpg_agent import Agent\n",
    "from collections import deque\n",
    "import matplotlib.pyplot as plt\n",
    "import numpy as np\n",
    "import random\n",
    "import time\n",
    "import torch\n",
    "from unityagents import UnityEnvironment\n",
    "\n",
    "%matplotlib inline"
   ]
  },
  {
   "cell_type": "markdown",
   "metadata": {},
   "source": [
    "The environment is already saved in the Workspace and can be accessed at the file path provided below. "
   ]
  },
  {
   "cell_type": "code",
   "execution_count": 4,
   "metadata": {},
   "outputs": [
    {
     "name": "stderr",
     "output_type": "stream",
     "text": [
      "INFO:unityagents:\n",
      "'Academy' started successfully!\n",
      "Unity Academy name: Academy\n",
      "        Number of Brains: 1\n",
      "        Number of External Brains : 1\n",
      "        Lesson number : 0\n",
      "        Reset Parameters :\n",
      "\t\t\n",
      "Unity brain name: TennisBrain\n",
      "        Number of Visual Observations (per agent): 0\n",
      "        Vector Observation space type: continuous\n",
      "        Vector Observation space size (per agent): 8\n",
      "        Number of stacked Vector Observation: 3\n",
      "        Vector Action space type: continuous\n",
      "        Vector Action space size (per agent): 2\n",
      "        Vector Action descriptions: , \n"
     ]
    }
   ],
   "source": [
    "env = UnityEnvironment(file_name=\"/data/Tennis_Linux_NoVis/Tennis\")"
   ]
  },
  {
   "cell_type": "markdown",
   "metadata": {},
   "source": [
    "Environments contain **_brains_** which are responsible for deciding the actions of their associated agents. Here we check for the first brain available, and set it as the default brain we will be controlling from Python."
   ]
  },
  {
   "cell_type": "code",
   "execution_count": 5,
   "metadata": {},
   "outputs": [],
   "source": [
    "# get the default brain\n",
    "brain_name = env.brain_names[0]\n",
    "brain = env.brains[brain_name]"
   ]
  },
  {
   "cell_type": "markdown",
   "metadata": {},
   "source": [
    "### 2. Examine the State and Action Spaces\n",
    "\n",
    "Run the code cell below to print some information about the environment."
   ]
  },
  {
   "cell_type": "code",
   "execution_count": 6,
   "metadata": {},
   "outputs": [
    {
     "name": "stdout",
     "output_type": "stream",
     "text": [
      "Number of agents: 2\n",
      "Size of each action: 2\n",
      "There are 2 agents. Each observes a state with length: 24\n",
      "The state for the first agent looks like:\n",
      " [ 0.          0.          0.          0.          0.          0.          0.\n",
      "  0.          0.          0.          0.          0.          0.          0.\n",
      "  0.          0.         -6.65278625 -1.5        -0.          0.\n",
      "  6.83172083  6.         -0.          0.        ]\n"
     ]
    }
   ],
   "source": [
    "# reset the environment\n",
    "env_info = env.reset(train_mode=True)[brain_name]\n",
    "\n",
    "# number of agents\n",
    "num_agents = len(env_info.agents)\n",
    "print('Number of agents:', num_agents)\n",
    "\n",
    "# size of each action\n",
    "action_size = brain.vector_action_space_size\n",
    "print('Size of each action:', action_size)\n",
    "\n",
    "# examine the state space \n",
    "states = env_info.vector_observations\n",
    "state_size = states.shape[1]\n",
    "print('There are {} agents. Each observes a state with length: {}'.format(states.shape[0], state_size))\n",
    "print('The state for the first agent looks like:\\n', states[0])"
   ]
  },
  {
   "cell_type": "markdown",
   "metadata": {},
   "source": [
    "### 3. Take Random Actions in the Environment\n",
    "\n",
    "In the next code cell, you will learn how to use the Python API to control the agent and receive feedback from the environment.\n",
    "\n",
    "Note that **in this coding environment, you will not be able to watch the agents while they are training**, and you should set `train_mode=True` to restart the environment."
   ]
  },
  {
   "cell_type": "code",
   "execution_count": 7,
   "metadata": {},
   "outputs": [
    {
     "name": "stdout",
     "output_type": "stream",
     "text": [
      "Score (max over agents) from episode 1: 0.0\n",
      "Score (max over agents) from episode 2: 0.0\n",
      "Score (max over agents) from episode 3: 0.0\n",
      "Score (max over agents) from episode 4: 0.0\n",
      "Score (max over agents) from episode 5: 0.09000000171363354\n"
     ]
    }
   ],
   "source": [
    "for i in range(1, 6):                                      # play game for 5 episodes\n",
    "    env_info = env.reset(train_mode=False)[brain_name]     # reset the environment    \n",
    "    states = env_info.vector_observations                  # get the current state (for each agent)\n",
    "    scores = np.zeros(num_agents)                          # initialize the score (for each agent)\n",
    "    while True:\n",
    "        actions = np.random.randn(num_agents, action_size) # select an action (for each agent)\n",
    "        actions = np.clip(actions, -1, 1)                  # all actions between -1 and 1\n",
    "        env_info = env.step(actions)[brain_name]           # send all actions to tne environment\n",
    "        next_states = env_info.vector_observations         # get next state (for each agent)\n",
    "        rewards = env_info.rewards                         # get reward (for each agent)\n",
    "        dones = env_info.local_done                        # see if episode finished\n",
    "        scores += env_info.rewards                         # update the score (for each agent)\n",
    "        states = next_states                               # roll over states to next time step\n",
    "        if np.any(dones):                                  # exit loop if episode finished\n",
    "            break\n",
    "    print('Score (max over agents) from episode {}: {}'.format(i, np.max(scores)))"
   ]
  },
  {
   "cell_type": "markdown",
   "metadata": {},
   "source": [
    "### 4. It's Your Turn!\n",
    "\n",
    "Now it's your turn to train your own agent to solve the environment!"
   ]
  },
  {
   "cell_type": "markdown",
   "metadata": {},
   "source": [
    "### Constants"
   ]
  },
  {
   "cell_type": "code",
   "execution_count": 8,
   "metadata": {},
   "outputs": [],
   "source": [
    "MAX_EPISODES = 2500\n",
    "SOLVED_SCORE = 0.5    # FOR TESTING ONLY - should be 0.5\n",
    "WINDOW_SIZE = 100       # FOR TESTING ONLY - should be 100\n",
    "PRINT_EVERY = 10\n",
    "ADD_NOISE = True\n",
    "STOP_IF_NO_IMPROVEMENT_OVER_EPISODES = 300\n",
    "RAND_SEED = 6\n",
    "\n",
    "SAVE_DIR = 'saved_models_and_scores'"
   ]
  },
  {
   "cell_type": "markdown",
   "metadata": {},
   "source": [
    "### Helper Functions"
   ]
  },
  {
   "cell_type": "code",
   "execution_count": 9,
   "metadata": {},
   "outputs": [],
   "source": [
    "def get_actions(states, add_noise):\n",
    "    # get all actions and flatten\n",
    "    actions = [a.act(states, add_noise) for a in agents]\n",
    "    return np.reshape(actions, (1, num_agents*action_size))\n",
    "\n",
    "def reset_agents():\n",
    "    for a in agents:\n",
    "        a.reset()\n",
    "\n",
    "def reset_rand_seed(seed):\n",
    "    np.random.seed(seed)\n",
    "    torch.manual_seed(seed)\n",
    "\n",
    "        \n",
    "def learning_step(states, actions, rewards, next_states, done):\n",
    "    for i, agent in enumerate(agents):\n",
    "        agent.step(states, actions, rewards[i], next_states, done, i)\n",
    "\n",
    "def save_weights(ep):\n",
    "    for i, agent in enumerate(agents):\n",
    "        torch.save(agent.actor_local.state_dict(), SAVE_DIR + '/actor_' + str(i) + '_ep_' + str(ep) + '.pth')\n",
    "        torch.save(agent.critic_local.state_dict(), SAVE_DIR + '/critic_' + str(i) + '_ep_' + str(ep) + '.pth')\n"
   ]
  },
  {
   "cell_type": "markdown",
   "metadata": {},
   "source": [
    "### Training Functions"
   ]
  },
  {
   "cell_type": "code",
   "execution_count": 10,
   "metadata": {},
   "outputs": [],
   "source": [
    "def maddpg():\n",
    "\n",
    "    # initialize scores\n",
    "    scores_window = deque(maxlen=WINDOW_SIZE)\n",
    "    scores_all = []\n",
    "    moving_average = []\n",
    "    best_score = -np.inf\n",
    "    best_episode = 0\n",
    "    env_solved = False\n",
    "\n",
    "    for i_episode in range(1, MAX_EPISODES+1):\n",
    "        env_info = env.reset(train_mode=True)[brain_name]      # reset the environment\n",
    "        states = np.reshape(env_info.vector_observations, (1,num_agents*state_size)) # flatten states\n",
    "        reset_agents()\n",
    "        scores = np.zeros(num_agents)\n",
    "        while True:\n",
    "            actions = get_actions(states, ADD_NOISE)           # choose agent actions and flatten them\n",
    "            env_info = env.step(actions)[brain_name]           # send both agents' actions to the environment\n",
    "            next_states = np.reshape(env_info.vector_observations, (1, num_agents*state_size)) # flatten next states\n",
    "            rewards = env_info.rewards                         # get rewards\n",
    "            done = env_info.local_done                         # see if the episode finished\n",
    "            learning_step(states, actions, rewards, next_states, done)  # perform the learning step\n",
    "            scores += np.max(rewards)                          # update scores with best reward\n",
    "            states = next_states                               # roll over states to next time step\n",
    "            if np.any(done):                                   # exit loop if episode finished\n",
    "                break\n",
    "\n",
    "        ep_best_score = np.max(scores)                         # record best score for episode\n",
    "        scores_window.append(ep_best_score)                    # add score to recent scores\n",
    "        scores_all.append(ep_best_score)                       # add score to histor of all scores\n",
    "        moving_average.append(np.mean(scores_window))          # recalculate moving average\n",
    "\n",
    "        # save best score\n",
    "        if ep_best_score > best_score and ep_best_score > 0:\n",
    "            best_score = ep_best_score\n",
    "            best_episode = i_episode\n",
    "            print('New best score found on episode {:d}; score = {:.3f}'.format(best_episode, best_score))\n",
    "        \n",
    "        # print results\n",
    "        if i_episode % PRINT_EVERY == 0:\n",
    "            print('Episodes {:0>4d}-{:0>4d}\\tMax Reward: {:.3f}\\tMoving Average: {:.3f}'.format(\n",
    "                i_episode-PRINT_EVERY, i_episode, np.max(scores_all[-PRINT_EVERY:]), moving_average[-1]))\n",
    "\n",
    "        # determine if environment is solved and keep best performing models\n",
    "        if moving_average[-1] >= SOLVED_SCORE:\n",
    "            if not env_solved:\n",
    "                print('<<< Environment solved in {:d} episodes! \\\n",
    "                \\n<<< Moving Average: {:.3f} over past {:d} episodes'.format(\n",
    "                    i_episode-WINDOW_SIZE, moving_average[-1], WINDOW_SIZE))\n",
    "                env_solved = True\n",
    "\n",
    "                # save weights\n",
    "                save_weights(i_episode)\n",
    "                np.save(SAVE_DIR+'/scores.npy', scores_all)\n",
    "                break\n",
    "\n",
    "            elif ep_best_score >= best_score:\n",
    "                print('<<< Best episode so far!\\\n",
    "                \\nEpisode {:0>4d}\\tMax Reward: {:.3f}\\tMoving Average: {:.3f}'.format(\n",
    "                i_episode, ep_best_score, moving_average[-1]))\n",
    "\n",
    "                # save weights\n",
    "                save_weights()\n",
    "\n",
    "            # stop training if model stops improving\n",
    "            elif (i_episode-best_episode) >= STOP_IF_NO_IMPROVEMENT_OVER_EPISODES:\n",
    "                print('<-- Training stopped. Best score not matched or exceeded for', STOP_IF_NO_IMPROVEMENT_OVER_EPISODES, 'episodes')\n",
    "                break\n",
    "            else:\n",
    "                continue\n",
    "\n",
    "    return scores_all, moving_average"
   ]
  },
  {
   "cell_type": "markdown",
   "metadata": {},
   "source": [
    "### Run training loop"
   ]
  },
  {
   "cell_type": "code",
   "execution_count": 11,
   "metadata": {},
   "outputs": [
    {
     "name": "stdout",
     "output_type": "stream",
     "text": [
      "New best score found on episode 5; score = 0.100\n",
      "Episodes 0000-0010\tMax Reward: 0.100\tMoving Average: 0.030\n",
      "Episodes 0010-0020\tMax Reward: 0.100\tMoving Average: 0.030\n",
      "Episodes 0020-0030\tMax Reward: 0.100\tMoving Average: 0.030\n",
      "Episodes 0030-0040\tMax Reward: 0.100\tMoving Average: 0.030\n",
      "Episodes 0040-0050\tMax Reward: 0.000\tMoving Average: 0.024\n",
      "Episodes 0050-0060\tMax Reward: 0.100\tMoving Average: 0.027\n",
      "Episodes 0060-0070\tMax Reward: 0.100\tMoving Average: 0.024\n",
      "Episodes 0070-0080\tMax Reward: 0.100\tMoving Average: 0.024\n",
      "Episodes 0080-0090\tMax Reward: 0.100\tMoving Average: 0.024\n",
      "Episodes 0090-0100\tMax Reward: 0.100\tMoving Average: 0.023\n",
      "Episodes 0100-0110\tMax Reward: 0.100\tMoving Average: 0.024\n",
      "New best score found on episode 114; score = 0.200\n",
      "Episodes 0110-0120\tMax Reward: 0.200\tMoving Average: 0.026\n",
      "Episodes 0120-0130\tMax Reward: 0.100\tMoving Average: 0.027\n",
      "Episodes 0130-0140\tMax Reward: 0.100\tMoving Average: 0.030\n",
      "New best score found on episode 142; score = 0.300\n",
      "New best score found on episode 145; score = 0.400\n",
      "Episodes 0140-0150\tMax Reward: 0.400\tMoving Average: 0.045\n",
      "New best score found on episode 158; score = 0.500\n",
      "Episodes 0150-0160\tMax Reward: 0.500\tMoving Average: 0.053\n",
      "Episodes 0160-0170\tMax Reward: 0.100\tMoving Average: 0.059\n",
      "Episodes 0170-0180\tMax Reward: 0.100\tMoving Average: 0.062\n",
      "Episodes 0180-0190\tMax Reward: 0.100\tMoving Average: 0.063\n",
      "Episodes 0190-0200\tMax Reward: 0.200\tMoving Average: 0.071\n",
      "Episodes 0200-0210\tMax Reward: 0.400\tMoving Average: 0.076\n",
      "Episodes 0210-0220\tMax Reward: 0.200\tMoving Average: 0.076\n",
      "Episodes 0220-0230\tMax Reward: 0.300\tMoving Average: 0.083\n",
      "New best score found on episode 235; score = 0.600\n",
      "Episodes 0230-0240\tMax Reward: 0.600\tMoving Average: 0.083\n",
      "Episodes 0240-0250\tMax Reward: 0.100\tMoving Average: 0.070\n",
      "Episodes 0250-0260\tMax Reward: 0.200\tMoving Average: 0.061\n",
      "Episodes 0260-0270\tMax Reward: 0.200\tMoving Average: 0.062\n",
      "Episodes 0270-0280\tMax Reward: 0.200\tMoving Average: 0.061\n",
      "Episodes 0280-0290\tMax Reward: 0.100\tMoving Average: 0.059\n",
      "Episodes 0290-0300\tMax Reward: 0.400\tMoving Average: 0.060\n",
      "Episodes 0300-0310\tMax Reward: 0.300\tMoving Average: 0.066\n",
      "Episodes 0310-0320\tMax Reward: 0.400\tMoving Average: 0.074\n",
      "Episodes 0320-0330\tMax Reward: 0.400\tMoving Average: 0.072\n",
      "Episodes 0330-0340\tMax Reward: 0.300\tMoving Average: 0.076\n",
      "Episodes 0340-0350\tMax Reward: 0.400\tMoving Average: 0.088\n",
      "Episodes 0350-0360\tMax Reward: 0.300\tMoving Average: 0.095\n",
      "Episodes 0360-0370\tMax Reward: 0.400\tMoving Average: 0.104\n",
      "Episodes 0370-0380\tMax Reward: 0.400\tMoving Average: 0.119\n",
      "Episodes 0380-0390\tMax Reward: 0.600\tMoving Average: 0.133\n",
      "New best score found on episode 394; score = 0.800\n",
      "Episodes 0390-0400\tMax Reward: 0.800\tMoving Average: 0.147\n",
      "Episodes 0400-0410\tMax Reward: 0.800\tMoving Average: 0.146\n",
      "Episodes 0410-0420\tMax Reward: 0.300\tMoving Average: 0.146\n",
      "Episodes 0420-0430\tMax Reward: 0.300\tMoving Average: 0.148\n",
      "Episodes 0430-0440\tMax Reward: 0.800\tMoving Average: 0.157\n",
      "Episodes 0440-0450\tMax Reward: 0.300\tMoving Average: 0.155\n",
      "Episodes 0450-0460\tMax Reward: 0.500\tMoving Average: 0.156\n",
      "Episodes 0460-0470\tMax Reward: 0.600\tMoving Average: 0.155\n",
      "New best score found on episode 472; score = 0.900\n",
      "New best score found on episode 480; score = 1.400\n",
      "Episodes 0470-0480\tMax Reward: 1.400\tMoving Average: 0.165\n",
      "New best score found on episode 488; score = 1.900\n",
      "Episodes 0480-0490\tMax Reward: 1.900\tMoving Average: 0.184\n",
      "Episodes 0490-0500\tMax Reward: 1.700\tMoving Average: 0.192\n",
      "Episodes 0500-0510\tMax Reward: 1.200\tMoving Average: 0.202\n",
      "New best score found on episode 511; score = 3.800\n",
      "Episodes 0510-0520\tMax Reward: 3.800\tMoving Average: 0.252\n",
      "Episodes 0520-0530\tMax Reward: 0.900\tMoving Average: 0.265\n",
      "Episodes 0530-0540\tMax Reward: 0.300\tMoving Average: 0.258\n",
      "Episodes 0540-0550\tMax Reward: 0.300\tMoving Average: 0.258\n",
      "Episodes 0550-0560\tMax Reward: 0.500\tMoving Average: 0.259\n",
      "Episodes 0560-0570\tMax Reward: 0.300\tMoving Average: 0.256\n",
      "Episodes 0570-0580\tMax Reward: 0.400\tMoving Average: 0.241\n",
      "Episodes 0580-0590\tMax Reward: 0.400\tMoving Average: 0.223\n",
      "Episodes 0590-0600\tMax Reward: 0.700\tMoving Average: 0.206\n",
      "Episodes 0600-0610\tMax Reward: 0.300\tMoving Average: 0.193\n",
      "Episodes 0610-0620\tMax Reward: 0.200\tMoving Average: 0.135\n",
      "Episodes 0620-0630\tMax Reward: 0.900\tMoving Average: 0.142\n",
      "Episodes 0630-0640\tMax Reward: 1.900\tMoving Average: 0.168\n",
      "Episodes 0640-0650\tMax Reward: 1.600\tMoving Average: 0.190\n",
      "Episodes 0650-0660\tMax Reward: 1.000\tMoving Average: 0.203\n",
      "Episodes 0660-0670\tMax Reward: 0.600\tMoving Average: 0.215\n",
      "Episodes 0670-0680\tMax Reward: 0.400\tMoving Average: 0.211\n",
      "Episodes 0680-0690\tMax Reward: 0.500\tMoving Average: 0.215\n",
      "Episodes 0690-0700\tMax Reward: 0.300\tMoving Average: 0.214\n",
      "Episodes 0700-0710\tMax Reward: 0.300\tMoving Average: 0.211\n",
      "Episodes 0710-0720\tMax Reward: 0.300\tMoving Average: 0.214\n",
      "Episodes 0720-0730\tMax Reward: 0.200\tMoving Average: 0.195\n",
      "Episodes 0730-0740\tMax Reward: 0.900\tMoving Average: 0.182\n",
      "Episodes 0740-0750\tMax Reward: 3.000\tMoving Average: 0.223\n",
      "Episodes 0750-0760\tMax Reward: 0.700\tMoving Average: 0.215\n",
      "Episodes 0760-0770\tMax Reward: 0.400\tMoving Average: 0.207\n",
      "Episodes 0770-0780\tMax Reward: 2.000\tMoving Average: 0.231\n",
      "Episodes 0780-0790\tMax Reward: 2.500\tMoving Average: 0.267\n",
      "Episodes 0790-0800\tMax Reward: 3.800\tMoving Average: 0.341\n",
      "Episodes 0800-0810\tMax Reward: 0.600\tMoving Average: 0.347\n",
      "Episodes 0810-0820\tMax Reward: 3.300\tMoving Average: 0.414\n",
      "Episodes 0820-0830\tMax Reward: 2.300\tMoving Average: 0.465\n",
      "<<< Environment solved in 738 episodes!                 \n",
      "<<< Moving Average: 0.505 over past 100 episodes\n"
     ]
    }
   ],
   "source": [
    "# reset random seed\n",
    "# reset_rand_seed(RAND_SEED)\n",
    "\n",
    "# make two agents\n",
    "agents = [Agent(state_size, action_size, num_agents=1, random_seed=1) for i in range(num_agents)]\n",
    "\n",
    "# run training loop\n",
    "scores, avgs = maddpg()"
   ]
  },
  {
   "cell_type": "code",
   "execution_count": 12,
   "metadata": {},
   "outputs": [
    {
     "data": {
      "image/png": "[encoded data removed]",
      "text/plain": [
       "<matplotlib.figure.Figure at 0x7ffa6c322e48>"
      ]
     },
     "metadata": {
      "needs_background": "light"
     },
     "output_type": "display_data"
    }
   ],
   "source": [
    "# plot scores and moving average\n",
    "plt.figure()\n",
    "plt.plot(scores, label='MADDPG')\n",
    "plt.plot(avgs, c='r', label='moving avg')\n",
    "plt.ylabel('Score')\n",
    "plt.xlabel('Episode')\n",
    "plt.legend(loc='upper left')\n",
    "plt.show()"
   ]
  },
  {
   "cell_type": "markdown",
   "metadata": {},
   "source": [
    "\n",
    "### 5. Test a saved agent"
   ]
  },
  {
   "cell_type": "code",
   "execution_count": null,
   "metadata": {},
   "outputs": [],
   "source": [
    "WINDOW_SIZE = 10\n",
    "PRINT_EVERY = 1\n",
    "ADD_NOISE = False"
   ]
  },
  {
   "cell_type": "code",
   "execution_count": null,
   "metadata": {},
   "outputs": [],
   "source": [
    "## reinitialize the agents (if needed)\n",
    "saved_ep = 838\n",
    "\n",
    "agent_0 = Agent(state_size, action_size, num_agents=1, random_seed=0)\n",
    "agent_1 = Agent(state_size, action_size, num_agents=1, random_seed=0)\n",
    "\n",
    "# load the weights from file\n",
    "agent_0_weights = SAVE_DIR + '/actor_0_ep_' + str(saved_ep) + '.pth'\n",
    "agent_1_weights = SAVE_DIR + '/actor_1_ep_' + str(saved_ep) + '.pth'\n",
    "agent_0.actor_local.load_state_dict(torch.load(agent_0_weights))\n",
    "agent_1.actor_local.load_state_dict(torch.load(agent_1_weights))     "
   ]
  },
  {
   "cell_type": "code",
   "execution_count": null,
   "metadata": {},
   "outputs": [],
   "source": [
    "def test(n_episodes=10, max_t=1000, train_mode=False):\n",
    "\n",
    "    scores_window = deque(maxlen=WINDOW_SIZE)\n",
    "    scores_all = []\n",
    "    moving_average = []  \n",
    "\n",
    "    for i_episode in range(1, n_episodes+1):\n",
    "        env_info = env.reset(train_mode=train_mode)[brain_name]         # reset the environment\n",
    "        states = np.reshape(env_info.vector_observations, (1,48)) # get states and combine them\n",
    "        scores = np.zeros(num_agents)\n",
    "        while True:\n",
    "            actions = get_actions(states, ADD_NOISE)           # choose agent actions and combine them\n",
    "            env_info = env.step(actions)[brain_name]           # send both agents' actions together to the environment\n",
    "            next_states = np.reshape(env_info.vector_observations, (1, 48)) # combine the agent next states\n",
    "            rewards = env_info.rewards                         # get reward\n",
    "            done = env_info.local_done                         # see if episode finished\n",
    "            scores += np.max(rewards)                          # update the score for each agent\n",
    "            states = next_states                               # roll over states to next time step\n",
    "            if np.any(done):                                   # exit loop if episode finished\n",
    "                break\n",
    "\n",
    "        ep_best_score = np.max(scores)\n",
    "        scores_window.append(ep_best_score)\n",
    "        scores_all.append(ep_best_score)\n",
    "        moving_average.append(np.mean(scores_window))\n",
    "\n",
    "        # print results\n",
    "        if i_episode % PRINT_EVERY == 0:\n",
    "            print('Episodes {:0>4d}-{:0>4d}\\tMax Reward: {:.3f}\\tMoving Average: {:.3f}'.format(\n",
    "                i_episode-PRINT_EVERY, i_episode, np.max(scores_all[-PRINT_EVERY:]), moving_average[-1]))\n",
    "            \n",
    "    return scores_all, moving_average            "
   ]
  },
  {
   "cell_type": "code",
   "execution_count": null,
   "metadata": {},
   "outputs": [],
   "source": [
    "scores, avgs = test()"
   ]
  },
  {
   "cell_type": "code",
   "execution_count": null,
   "metadata": {},
   "outputs": [],
   "source": [
    "# plot the scores\n",
    "fig = plt.figure()\n",
    "ax = fig.add_subplot(111)\n",
    "plt.plot(np.arange(len(scores)), scores, label='MADDPG')\n",
    "plt.plot(np.arange(len(scores)), avgs, c='r', label='moving avg')\n",
    "plt.ylabel('Score')\n",
    "plt.xlabel('Episode #')\n",
    "plt.legend(loc='upper left')\n",
    "plt.show()"
   ]
  },
  {
   "cell_type": "markdown",
   "metadata": {},
   "source": [
    "When finished, you can close the environment."
   ]
  },
  {
   "cell_type": "code",
   "execution_count": null,
   "metadata": {},
   "outputs": [],
   "source": [
    "env.close()"
   ]
  }
 ],
 "metadata": {
  "anaconda-cloud": {},
  "kernelspec": {
   "display_name": "Python 3",
   "language": "python",
   "name": "python3"
  },
  "language_info": {
   "codemirror_mode": {
    "name": "ipython",
    "version": 3
   },
   "file_extension": ".py",
   "mimetype": "text/x-python",
   "name": "python",
   "nbconvert_exporter": "python",
   "pygments_lexer": "ipython3",
   "version": "3.6.3"
  }
 },
 "nbformat": 4,
 "nbformat_minor": 2
}