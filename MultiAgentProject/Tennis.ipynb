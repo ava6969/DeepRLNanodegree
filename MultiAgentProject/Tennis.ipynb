{
 "cells": [
  {
   "cell_type": "markdown",
   "metadata": {},
   "source": [
    "# Collaboration and Competition\n",
    "\n",
    "---\n",
    "\n",
    "You are welcome to use this coding environment to train your agent for the project.  Follow the instructions below to get started!\n",
    "\n",
    "### 1. Start the Environment\n",
    "\n",
    "Run the next code cell to install a few packages.  This line will take a few minutes to run!"
   ]
  },
  {
   "cell_type": "code",
   "execution_count": 1,
   "metadata": {},
   "outputs": [
    {
     "name": "stdout",
     "output_type": "stream",
     "text": [
      "\u001b[31mtensorflow 1.7.1 has requirement numpy>=1.13.3, but you'll have numpy 1.12.1 which is incompatible.\u001b[0m\r\n",
      "\u001b[31mipython 6.5.0 has requirement prompt-toolkit<2.0.0,>=1.0.15, but you'll have prompt-toolkit 3.0.4 which is incompatible.\u001b[0m\r\n"
     ]
    }
   ],
   "source": [
    "!pip -q install ./python"
   ]
  },
  {
   "cell_type": "markdown",
   "metadata": {},
   "source": [
    "The environment is already saved in the Workspace and can be accessed at the file path provided below. "
   ]
  },
  {
   "cell_type": "code",
   "execution_count": 2,
   "metadata": {},
   "outputs": [
    {
     "name": "stderr",
     "output_type": "stream",
     "text": [
      "INFO:unityagents:\n",
      "'Academy' started successfully!\n",
      "Unity Academy name: Academy\n",
      "        Number of Brains: 1\n",
      "        Number of External Brains : 1\n",
      "        Lesson number : 0\n",
      "        Reset Parameters :\n",
      "\t\t\n",
      "Unity brain name: TennisBrain\n",
      "        Number of Visual Observations (per agent): 0\n",
      "        Vector Observation space type: continuous\n",
      "        Vector Observation space size (per agent): 8\n",
      "        Number of stacked Vector Observation: 3\n",
      "        Vector Action space type: continuous\n",
      "        Vector Action space size (per agent): 2\n",
      "        Vector Action descriptions: , \n"
     ]
    }
   ],
   "source": [
    "%load_ext autoreload\n",
    "%autoreload 2\n",
    "\n",
    "from maddpg_agent import Agent\n",
    "from collections import deque\n",
    "import matplotlib.pyplot as plt\n",
    "import torch\n",
    "import pickle\n",
    "\n",
    "from unityagents import UnityEnvironment\n",
    "import numpy as np\n",
    "\n",
    "env = UnityEnvironment(file_name=\"/data/Tennis_Linux_NoVis/Tennis\")"
   ]
  },
  {
   "cell_type": "markdown",
   "metadata": {},
   "source": [
    "Environments contain **_brains_** which are responsible for deciding the actions of their associated agents. Here we check for the first brain available, and set it as the default brain we will be controlling from Python."
   ]
  },
  {
   "cell_type": "code",
   "execution_count": 3,
   "metadata": {},
   "outputs": [],
   "source": [
    "# get the default brain\n",
    "brain_name = env.brain_names[0]\n",
    "brain = env.brains[brain_name]"
   ]
  },
  {
   "cell_type": "markdown",
   "metadata": {},
   "source": [
    "### 2. Examine the State and Action Spaces\n",
    "\n",
    "Run the code cell below to print some information about the environment."
   ]
  },
  {
   "cell_type": "code",
   "execution_count": 4,
   "metadata": {},
   "outputs": [
    {
     "name": "stdout",
     "output_type": "stream",
     "text": [
      "Number of agents: 2\n",
      "Size of each action: 2\n",
      "There are 2 agents. Each observes a state with length: 24\n",
      "The state for the first agent looks like:\n",
      " [ 0.          0.          0.          0.          0.          0.          0.\n",
      "  0.          0.          0.          0.          0.          0.          0.\n",
      "  0.          0.         -6.65278625 -1.5        -0.          0.\n",
      "  6.83172083  6.         -0.          0.        ]\n",
      "The state for the second agent looks like:\n",
      " [ 0.          0.          0.          0.          0.          0.          0.\n",
      "  0.          0.          0.          0.          0.          0.          0.\n",
      "  0.          0.         -6.4669857  -1.5         0.          0.\n",
      " -6.83172083  6.          0.          0.        ]\n"
     ]
    }
   ],
   "source": [
    "# reset the environment\n",
    "env_info = env.reset(train_mode=True)[brain_name]\n",
    "\n",
    "# number of agents \n",
    "num_agents = len(env_info.agents)\n",
    "print('Number of agents:', num_agents)\n",
    "\n",
    "# size of each action\n",
    "action_size = brain.vector_action_space_size\n",
    "print('Size of each action:', action_size)\n",
    "\n",
    "# examine the state space \n",
    "states = env_info.vector_observations\n",
    "state_size = states.shape[1]\n",
    "print('There are {} agents. Each observes a state with length: {}'.format(states.shape[0], state_size))\n",
    "print('The state for the first agent looks like:\\n', states[0])\n",
    "print('The state for the second agent looks like:\\n', states[1])"
   ]
  },
  {
   "cell_type": "markdown",
   "metadata": {},
   "source": [
    "### 3. Take Random Actions in the Environment\n",
    "\n",
    "In the next code cell, you will learn how to use the Python API to control the agent and receive feedback from the environment.\n",
    "\n",
    "Note that **in this coding environment, you will not be able to watch the agents while they are training**, and you should set `train_mode=True` to restart the environment."
   ]
  },
  {
   "cell_type": "code",
   "execution_count": 5,
   "metadata": {},
   "outputs": [
    {
     "name": "stdout",
     "output_type": "stream",
     "text": [
      "Total score (averaged over agents) this episode: -0.004999999888241291\n",
      "Total score (averaged over agents) this episode: -0.004999999888241291\n",
      "Total score (averaged over agents) this episode: -0.004999999888241291\n",
      "Total score (averaged over agents) this episode: -0.004999999888241291\n",
      "Total score (averaged over agents) this episode: 0.04500000085681677\n"
     ]
    }
   ],
   "source": [
    "for i in range(5):                                         # play game for 5 episodes\n",
    "    env_info = env.reset(train_mode=False)[brain_name]     # reset the environment    \n",
    "    states = env_info.vector_observations                  # get the current state (for each agent)\n",
    "    scores = np.zeros(num_agents)                          # initialize the score (for each agent)\n",
    "    while True:\n",
    "        actions = np.random.randn(num_agents, action_size) # select an action (for each agent)\n",
    "        actions = np.clip(actions, -1, 1)                  # all actions between -1 and 1\n",
    "        env_info = env.step(actions)[brain_name]           # send all actions to tne environment\n",
    "        next_states = env_info.vector_observations         # get next state (for each agent)\n",
    "        rewards = env_info.rewards                         # get reward (for each agent)\n",
    "        dones = env_info.local_done                        # see if episode finished\n",
    "        scores += env_info.rewards                         # update the score (for each agent)\n",
    "        states = next_states                               # roll over states to next time step\n",
    "        if np.any(dones):                                  # exit loop if episode finished\n",
    "            break\n",
    "    print('Total score (averaged over agents) this episode: {}'.format(np.mean(scores)))"
   ]
  },
  {
   "cell_type": "markdown",
   "metadata": {},
   "source": [
    "When finished, you can close the environment."
   ]
  },
  {
   "cell_type": "code",
   "execution_count": 6,
   "metadata": {},
   "outputs": [],
   "source": [
    "# env.close()"
   ]
  },
  {
   "cell_type": "markdown",
   "metadata": {},
   "source": [
    "### 4. It's Your Turn!\n",
    "\n",
    "Now it's your turn to train your own agent to solve the environment!  A few **important notes**:\n",
    "- When training the environment, set `train_mode=True`, so that the line for resetting the environment looks like the following:\n",
    "```python\n",
    "env_info = env.reset(train_mode=True)[brain_name]\n",
    "```\n",
    "- To structure your work, you're welcome to work directly in this Jupyter notebook, or you might like to start over with a new file!  You can see the list of files in the workspace by clicking on **_Jupyter_** in the top left corner of the notebook.\n",
    "- In this coding environment, you will not be able to watch the agents while they are training.  However, **_after training the agents_**, you can download the saved model weights to watch the agents on your own machine! "
   ]
  },
  {
   "cell_type": "markdown",
   "metadata": {},
   "source": [
    "## DDPG Loop"
   ]
  },
  {
   "cell_type": "code",
   "execution_count": 7,
   "metadata": {},
   "outputs": [],
   "source": [
    "def ddpg(n_episodes=2000, window_size=100, win_criteria=0.5, print_every=10, save_every=100,\n",
    "         test_run = False, saved_state_paths = None):\n",
    "\n",
    "    if saved_state_paths is not None:                             # loading back intermediate results:\n",
    "        with open(saved_state_paths[0], 'rb') as f:               # first object in tuple is the scores and deque pickle\n",
    "            scores_deque, scores = pickle.load(f)\n",
    "        agent0.actor_local.load_state_dict(torch.load(saved_state_paths[1]))   # next object is the actor network\n",
    "        agent0.critic_local.load_state_dict(torch.load(saved_state_paths[2]))  # last object is the critic network\n",
    "        agent1.actor_local.load_state_dict(torch.load(saved_state_paths[3]))   # next object is the actor network\n",
    "        agent1.critic_local.load_state_dict(torch.load(saved_state_paths[4]))  # last object is the critic network\n",
    "\n",
    "        start_episode = len(scores)+1\n",
    "        \n",
    "        best_score = max(scores)\n",
    "        best_episode = scores.index(max(scores))\n",
    "\n",
    "    else:                                                   # starting from scratch\n",
    "        scores_deque = deque(maxlen=window_size) \n",
    "        scores = []\n",
    "        start_episode = 1\n",
    "        \n",
    "        best_score = float(\"-inf\")\n",
    "        best_episode = -1\n",
    "            \n",
    "    for i_episode in range(start_episode, n_episodes+1):\n",
    "        \n",
    "        env_info = env.reset(train_mode=True)[brain_name]\n",
    "        states = env_info.vector_observations.reshape((1,48))\n",
    "        \n",
    "        # reset agents and scores\n",
    "        agent0.reset()\n",
    "        agent1.reset()\n",
    "        episode_scores = np.zeros(num_agents) \n",
    "        \n",
    "        if not test_run:                          # if we're testing, don't actually run the episodes\n",
    "\n",
    "            stepNum = 0\n",
    "            while True:\n",
    "            \n",
    "                add_noise = True\n",
    "                actions = np.concatenate((agent0.act(states,add_noise), agent1.act(states,add_noise)), axis = 0).flatten()\n",
    "                env_info = env.step(actions)[brain_name]\n",
    "                next_states = env_info.vector_observations.reshape((1,48))\n",
    "                \n",
    "                rewards = env_info.rewards\n",
    "                dones = env_info.local_done\n",
    "\n",
    "                # TODO - move agent numbers to local variables\n",
    "                agent0.step(states, actions, rewards[0], next_states, dones, 0)\n",
    "                agent1.step(states, actions, rewards[1], next_states, dones, 1)\n",
    "        \n",
    "#                 print('\\rActions {:.2f} {:.2f} {:.2f} {:.2f}'.format(actions[0],actions[1],actions[2],actions[3]),end=\"\\r\")\n",
    "                \n",
    "                # Learn, if enough samples are available in memory and at learning interval settings\n",
    "                if len(buff.memory) > buff.batch_size and stepNum % h.LEARN_EVERY == 0:\n",
    "                    stepNum += 1\n",
    "                    for _ in range(h.LEARN_NUM):\n",
    "                        experiences = buff.sample()\n",
    "                        agent0.learn(experiences, 0)\n",
    "                        agent1.learn(experiences, 1)\n",
    "\n",
    "                episode_scores += np.max(rewards)\n",
    "                states = next_states\n",
    "        \n",
    "                # end if any are done\n",
    "                if np.any(dones):\n",
    "                    break\n",
    "\n",
    "        episode_score = np.max(episode_scores)  # episode score(s)\n",
    "        scores_deque.append(episode_score)      # append scores to deque\n",
    "        scores.append(episode_score)            # append scores to overall array\n",
    "        average_score = np.mean(scores_deque)   # get the average inside the moving window\n",
    "\n",
    "        if episode_score > best_score:\n",
    "            best_score = episode_score\n",
    "            best_episode = i_episode\n",
    "            if episode_score > 0:\n",
    "                print('\\n>>>>>> New best score {:.2f} at episode {}'.format(best_score, best_episode))\n",
    "        \n",
    "        print('\\rEpisode: {}\\tAverage Score: {:.2f}\\tCurrent Score: {:.2f} ({:.2f}/{:.2f})'.format(i_episode, average_score, episode_score, episode_scores[0], episode_scores[1]), end=\"\")\n",
    "        if i_episode % print_every == 0:\n",
    "            print('\\rEpisode: {}\\tAverage Score: {:.2f}\\tCurrent Score: {:.2f}'.format(i_episode, average_score, episode_score))\n",
    "\n",
    "        if i_episode % save_every == 0:\n",
    "            # Saving the objects:\n",
    "            episode_string = str(i_episode)\n",
    "#             print('saving checkpoint')\n",
    "            with open('cp_save_state_'+episode_string+'.pkl', 'wb') as f:\n",
    "                pickle.dump([scores_deque, scores], f)\n",
    "            torch.save(agent0.actor_local.state_dict(), 'cp_actor0_'+episode_string+'.pth')\n",
    "            torch.save(agent0.critic_local.state_dict(), 'cp_critic0_'+episode_string+'.pth')\n",
    "            torch.save(agent1.actor_local.state_dict(), 'cp_actor1_'+episode_string+'.pth')\n",
    "            torch.save(agent1.critic_local.state_dict(), 'cp_critic1_'+episode_string+'.pth')\n",
    "\n",
    "            \n",
    "        if average_score >= win_criteria:\n",
    "            print('\\nEnvironment solved in {} episodes!\\tAverage Score: {:.2f}'.format(i_episode, average_score))\n",
    "            episode_string = str(i_episode)\n",
    "            with open('cp_save_state_'+episode_string+'.pkl', 'wb') as f:\n",
    "                pickle.dump([scores_deque, scores], f)\n",
    "            torch.save(agent0.actor_local.state_dict(), 'cp_actor0_solved.pth')\n",
    "            torch.save(agent0.critic_local.state_dict(), 'cp_critic0_solved.pth')\n",
    "            torch.save(agent1.actor_local.state_dict(), 'cp_actor1_solved.pth')\n",
    "            torch.save(agent1.critic_local.state_dict(), 'cp_critic1_solved.pth')\n",
    "\n",
    "            break\n",
    "\n",
    "    np.save('cp_scores.npy', scores)\n",
    "    return scores\n"
   ]
  },
  {
   "cell_type": "code",
   "execution_count": 10,
   "metadata": {},
   "outputs": [
    {
     "name": "stdout",
     "output_type": "stream",
     "text": [
      "Episode: 5\tAverage Score: 0.00\tCurrent Score: 0.00 (0.00/0.00)\n",
      ">>>>>> New best score 0.10 at episode 6\n",
      "Episode: 10\tAverage Score: 0.01\tCurrent Score: 0.00 (0.00/0.00)"
     ]
    }
   ],
   "source": [
    "from maddpg_agent import Agent\n",
    "from ReplayBuffer import ReplayBuffer\n",
    "import hyperparameters as h\n",
    "\n",
    "device = torch.device(\"cuda:0\" if torch.cuda.is_available() else \"cpu\")\n",
    "\n",
    "buff = ReplayBuffer(action_size, h.BUFFER_SIZE, h.BATCH_SIZE, h.SEED, device)\n",
    "\n",
    "agent0 = Agent(state_size=state_size, action_size=action_size, random_seed=h.SEED, num_agents=1, replay_buffer = buff, device = device)\n",
    "agent1 = Agent(state_size=state_size, action_size=action_size, random_seed=h.SEED, num_agents=1, replay_buffer = buff, device = device)\n",
    "\n",
    "# lastSavedEpisode = str(2000)\n",
    "# saved_state_paths = ['cp_save_state_'+lastSavedEpisode+'.pkl',\n",
    "#                      'cp_actor0_'+lastSavedEpisode+'.pth',\n",
    "#                      'cp_critic0_'+lastSavedEpisode+'.pth',\n",
    "#                      'cp_actor1_'+lastSavedEpisode+'.pth',\n",
    "#                      'cp_critic1_'+lastSavedEpisode+'.pth']\n",
    "\n",
    "saved_state_paths = None\n",
    "\n",
    "test_scores = ddpg(n_episodes=10,print_every=100, save_every=100, test_run=False, saved_state_paths=saved_state_paths)\n"
   ]
  },
  {
   "cell_type": "code",
   "execution_count": null,
   "metadata": {},
   "outputs": [],
   "source": [
    "actionMat = np.zeros((len(buff.memory),4))\n",
    "for i in range(len(buff.memory)):\n",
    "    actionMat[i,:] = buff.memory[i].action\n",
    "print(len(buff.memory))\n",
    "plt.figure()\n",
    "for i in range(4):\n",
    "    plt.subplot(2,2,i+1)\n",
    "    plt.hist(actionMat[:,i])\n",
    "    \n",
    "plt.figure()\n",
    "plt.hist2d(actionMat[:,[0,2]].flatten(),actionMat[:,[1,3]].flatten())\n",
    "\n",
    "plt.figure()\n",
    "plt.plot(test_scores)\n",
    "plt.show()"
   ]
  },
  {
   "cell_type": "code",
   "execution_count": null,
   "metadata": {},
   "outputs": [],
   "source": []
  }
 ],
 "metadata": {
  "kernelspec": {
   "display_name": "Python 3",
   "language": "python",
   "name": "python3"
  },
  "language_info": {
   "codemirror_mode": {
    "name": "ipython",
    "version": 3
   },
   "file_extension": ".py",
   "mimetype": "text/x-python",
   "name": "python",
   "nbconvert_exporter": "python",
   "pygments_lexer": "ipython3",
   "version": "3.6.3"
  }
 },
 "nbformat": 4,
 "nbformat_minor": 2
}
